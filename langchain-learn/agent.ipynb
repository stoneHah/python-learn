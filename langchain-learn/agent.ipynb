{
 "cells": [
  {
   "cell_type": "code",
   "execution_count": 2,
   "metadata": {},
   "outputs": [
    {
     "name": "stdout",
     "output_type": "stream",
     "text": [
      "Looking in indexes: https://mirrors.aliyun.com/pypi/simple\n",
      "Requirement already satisfied: langchain-community in g:\\pyproject\\python-learn\\venv\\lib\\site-packages (0.3.2)\n",
      "Collecting langchain-community\n",
      "  Downloading https://mirrors.aliyun.com/pypi/packages/6f/f2/230de86ff6a4de7f6a784f52600bdac3f8d6c18123398e4c073f8d8ceaf8/langchain_community-0.3.3-py3-none-any.whl (2.4 MB)\n",
      "     ---------------------------------------- 0.0/2.4 MB ? eta -:--:--\n",
      "     --- ------------------------------------ 0.2/2.4 MB 6.9 MB/s eta 0:00:01\n",
      "     ------------ --------------------------- 0.8/2.4 MB 9.6 MB/s eta 0:00:01\n",
      "     --------------------- ------------------ 1.3/2.4 MB 10.3 MB/s eta 0:00:01\n",
      "     ------------------------------ --------- 1.8/2.4 MB 10.7 MB/s eta 0:00:01\n",
      "     ---------------------------------------  2.4/2.4 MB 10.8 MB/s eta 0:00:01\n",
      "     ---------------------------------------- 2.4/2.4 MB 10.1 MB/s eta 0:00:00\n",
      "Requirement already satisfied: langgraph in g:\\pyproject\\python-learn\\venv\\lib\\site-packages (0.2.38)\n",
      "Collecting langgraph\n",
      "  Downloading https://mirrors.aliyun.com/pypi/packages/72/67/ffad3820b879aa7f6f6956d4499d59017e51e944addaf6121dd3fc06eb21/langgraph-0.2.39-py3-none-any.whl (113 kB)\n",
      "     ---------------------------------------- 0.0/113.5 kB ? eta -:--:--\n",
      "     -------------------------------------- 113.5/113.5 kB 3.2 MB/s eta 0:00:00\n",
      "Collecting langchain-anthropic\n",
      "  Downloading https://mirrors.aliyun.com/pypi/packages/5b/5d/9e69dc120e41beb7bf36c68c260563a6fe16944a7640297d5c272a79c09b/langchain_anthropic-0.2.3-py3-none-any.whl (21 kB)\n",
      "Collecting tavily-python\n",
      "  Downloading https://mirrors.aliyun.com/pypi/packages/90/99/05776f7150a5b3f8d853377144a3a634131964c0fce38307537674a9a674/tavily_python-0.5.0-py3-none-any.whl (14 kB)\n",
      "Collecting langgraph-checkpoint-sqlite\n",
      "  Downloading https://mirrors.aliyun.com/pypi/packages/7e/4e/61d4ae86a9a0066875c0235f0cedb0919c22d30e67c3e7e4d54f431dcb33/langgraph_checkpoint_sqlite-2.0.0-py3-none-any.whl (12 kB)\n",
      "Requirement already satisfied: PyYAML>=5.3 in g:\\pyproject\\python-learn\\venv\\lib\\site-packages (from langchain-community) (6.0.1)\n",
      "Requirement already satisfied: SQLAlchemy<3,>=1.4 in g:\\pyproject\\python-learn\\venv\\lib\\site-packages (from langchain-community) (2.0.36)\n",
      "Requirement already satisfied: aiohttp<4.0.0,>=3.8.3 in g:\\pyproject\\python-learn\\venv\\lib\\site-packages (from langchain-community) (3.10.10)\n",
      "Requirement already satisfied: dataclasses-json<0.7,>=0.5.7 in g:\\pyproject\\python-learn\\venv\\lib\\site-packages (from langchain-community) (0.6.7)\n",
      "Collecting langchain<0.4.0,>=0.3.4 (from langchain-community)\n",
      "  Downloading https://mirrors.aliyun.com/pypi/packages/53/b9/290c361a4976947ac6fad11af0a4c11db0b5d8357dc3447d28c1ecd9a1a3/langchain-0.3.4-py3-none-any.whl (1.0 MB)\n",
      "     ---------------------------------------- 0.0/1.0 MB ? eta -:--:--\n",
      "     -- ------------------------------------- 0.1/1.0 MB 2.0 MB/s eta 0:00:01\n",
      "     ---------------------- ----------------- 0.6/1.0 MB 7.0 MB/s eta 0:00:01\n",
      "     ---------------------------------------- 1.0/1.0 MB 8.0 MB/s eta 0:00:00\n",
      "Collecting langchain-core<0.4.0,>=0.3.12 (from langchain-community)\n",
      "  Downloading https://mirrors.aliyun.com/pypi/packages/ce/4a/a6499d93805c3e6316e641b6934e23c98c011d00b9a2138835d567e976e5/langchain_core-0.3.12-py3-none-any.whl (407 kB)\n",
      "     ---------------------------------------- 0.0/407.7 kB ? eta -:--:--\n",
      "     ------------------------------------  399.4/407.7 kB 12.2 MB/s eta 0:00:01\n",
      "     ------------------------------------- 407.7/407.7 kB 12.4 MB/s eta 0:00:00\n",
      "Requirement already satisfied: langsmith<0.2.0,>=0.1.125 in g:\\pyproject\\python-learn\\venv\\lib\\site-packages (from langchain-community) (0.1.135)\n",
      "Requirement already satisfied: numpy<2,>=1 in g:\\pyproject\\python-learn\\venv\\lib\\site-packages (from langchain-community) (1.26.4)\n",
      "Requirement already satisfied: pydantic-settings<3.0.0,>=2.4.0 in g:\\pyproject\\python-learn\\venv\\lib\\site-packages (from langchain-community) (2.5.2)\n",
      "Requirement already satisfied: requests<3,>=2 in g:\\pyproject\\python-learn\\venv\\lib\\site-packages (from langchain-community) (2.32.3)\n",
      "Requirement already satisfied: tenacity!=8.4.0,<10,>=8.1.0 in g:\\pyproject\\python-learn\\venv\\lib\\site-packages (from langchain-community) (8.5.0)\n",
      "Requirement already satisfied: langgraph-checkpoint<3.0.0,>=2.0.0 in g:\\pyproject\\python-learn\\venv\\lib\\site-packages (from langgraph) (2.0.1)\n",
      "Requirement already satisfied: langgraph-sdk<0.2.0,>=0.1.32 in g:\\pyproject\\python-learn\\venv\\lib\\site-packages (from langgraph) (0.1.33)\n",
      "Requirement already satisfied: anthropic<1,>=0.30.0 in g:\\pyproject\\python-learn\\venv\\lib\\site-packages (from langchain-anthropic) (0.31.2)\n",
      "Collecting defusedxml<0.8.0,>=0.7.1 (from langchain-anthropic)\n",
      "  Downloading https://mirrors.aliyun.com/pypi/packages/07/6c/aa3f2f849e01cb6a001cd8554a88d4c77c5c1a31c95bdf1cf9301e6d9ef4/defusedxml-0.7.1-py2.py3-none-any.whl (25 kB)\n",
      "Requirement already satisfied: pydantic<3.0.0,>=2.7.4 in g:\\pyproject\\python-learn\\venv\\lib\\site-packages (from langchain-anthropic) (2.8.2)\n",
      "Requirement already satisfied: tiktoken>=0.5.1 in g:\\pyproject\\python-learn\\venv\\lib\\site-packages (from tavily-python) (0.8.0)\n",
      "Requirement already satisfied: httpx in g:\\pyproject\\python-learn\\venv\\lib\\site-packages (from tavily-python) (0.27.0)\n",
      "Collecting aiosqlite<0.21.0,>=0.20.0 (from langgraph-checkpoint-sqlite)\n",
      "  Downloading https://mirrors.aliyun.com/pypi/packages/00/c4/c93eb22025a2de6b83263dfe3d7df2e19138e345bca6f18dba7394120930/aiosqlite-0.20.0-py3-none-any.whl (15 kB)\n",
      "Requirement already satisfied: aiohappyeyeballs>=2.3.0 in g:\\pyproject\\python-learn\\venv\\lib\\site-packages (from aiohttp<4.0.0,>=3.8.3->langchain-community) (2.4.3)\n",
      "Requirement already satisfied: aiosignal>=1.1.2 in g:\\pyproject\\python-learn\\venv\\lib\\site-packages (from aiohttp<4.0.0,>=3.8.3->langchain-community) (1.3.1)\n",
      "Requirement already satisfied: attrs>=17.3.0 in g:\\pyproject\\python-learn\\venv\\lib\\site-packages (from aiohttp<4.0.0,>=3.8.3->langchain-community) (24.2.0)\n",
      "Requirement already satisfied: frozenlist>=1.1.1 in g:\\pyproject\\python-learn\\venv\\lib\\site-packages (from aiohttp<4.0.0,>=3.8.3->langchain-community) (1.4.1)\n",
      "Requirement already satisfied: multidict<7.0,>=4.5 in g:\\pyproject\\python-learn\\venv\\lib\\site-packages (from aiohttp<4.0.0,>=3.8.3->langchain-community) (6.1.0)\n",
      "Requirement already satisfied: yarl<2.0,>=1.12.0 in g:\\pyproject\\python-learn\\venv\\lib\\site-packages (from aiohttp<4.0.0,>=3.8.3->langchain-community) (1.15.3)\n",
      "Requirement already satisfied: async-timeout<5.0,>=4.0 in g:\\pyproject\\python-learn\\venv\\lib\\site-packages (from aiohttp<4.0.0,>=3.8.3->langchain-community) (4.0.3)\n",
      "Requirement already satisfied: typing_extensions>=4.0 in g:\\pyproject\\python-learn\\venv\\lib\\site-packages (from aiosqlite<0.21.0,>=0.20.0->langgraph-checkpoint-sqlite) (4.12.2)\n",
      "Requirement already satisfied: anyio<5,>=3.5.0 in g:\\pyproject\\python-learn\\venv\\lib\\site-packages (from anthropic<1,>=0.30.0->langchain-anthropic) (4.4.0)\n",
      "Requirement already satisfied: distro<2,>=1.7.0 in g:\\pyproject\\python-learn\\venv\\lib\\site-packages (from anthropic<1,>=0.30.0->langchain-anthropic) (1.9.0)\n",
      "Requirement already satisfied: jiter<1,>=0.4.0 in g:\\pyproject\\python-learn\\venv\\lib\\site-packages (from anthropic<1,>=0.30.0->langchain-anthropic) (0.5.0)\n",
      "Requirement already satisfied: sniffio in g:\\pyproject\\python-learn\\venv\\lib\\site-packages (from anthropic<1,>=0.30.0->langchain-anthropic) (1.3.1)\n",
      "Requirement already satisfied: tokenizers>=0.13.0 in g:\\pyproject\\python-learn\\venv\\lib\\site-packages (from anthropic<1,>=0.30.0->langchain-anthropic) (0.19.1)\n",
      "Requirement already satisfied: marshmallow<4.0.0,>=3.18.0 in g:\\pyproject\\python-learn\\venv\\lib\\site-packages (from dataclasses-json<0.7,>=0.5.7->langchain-community) (3.22.0)\n",
      "Requirement already satisfied: typing-inspect<1,>=0.4.0 in g:\\pyproject\\python-learn\\venv\\lib\\site-packages (from dataclasses-json<0.7,>=0.5.7->langchain-community) (0.9.0)\n",
      "Requirement already satisfied: certifi in g:\\pyproject\\python-learn\\venv\\lib\\site-packages (from httpx->tavily-python) (2024.7.4)\n",
      "Requirement already satisfied: httpcore==1.* in g:\\pyproject\\python-learn\\venv\\lib\\site-packages (from httpx->tavily-python) (1.0.5)\n",
      "Requirement already satisfied: idna in g:\\pyproject\\python-learn\\venv\\lib\\site-packages (from httpx->tavily-python) (3.7)\n",
      "Requirement already satisfied: h11<0.15,>=0.13 in g:\\pyproject\\python-learn\\venv\\lib\\site-packages (from httpcore==1.*->httpx->tavily-python) (0.14.0)\n",
      "Requirement already satisfied: langchain-text-splitters<0.4.0,>=0.3.0 in g:\\pyproject\\python-learn\\venv\\lib\\site-packages (from langchain<0.4.0,>=0.3.4->langchain-community) (0.3.0)\n",
      "Requirement already satisfied: jsonpatch<2.0,>=1.33 in g:\\pyproject\\python-learn\\venv\\lib\\site-packages (from langchain-core<0.4.0,>=0.3.12->langchain-community) (1.33)\n",
      "Requirement already satisfied: packaging<25,>=23.2 in g:\\pyproject\\python-learn\\venv\\lib\\site-packages (from langchain-core<0.4.0,>=0.3.12->langchain-community) (24.1)\n",
      "Requirement already satisfied: msgpack<2.0.0,>=1.1.0 in g:\\pyproject\\python-learn\\venv\\lib\\site-packages (from langgraph-checkpoint<3.0.0,>=2.0.0->langgraph) (1.1.0)\n",
      "Requirement already satisfied: httpx-sse>=0.4.0 in g:\\pyproject\\python-learn\\venv\\lib\\site-packages (from langgraph-sdk<0.2.0,>=0.1.32->langgraph) (0.4.0)\n",
      "Requirement already satisfied: orjson>=3.10.1 in g:\\pyproject\\python-learn\\venv\\lib\\site-packages (from langgraph-sdk<0.2.0,>=0.1.32->langgraph) (3.10.7)\n",
      "Requirement already satisfied: requests-toolbelt<2.0.0,>=1.0.0 in g:\\pyproject\\python-learn\\venv\\lib\\site-packages (from langsmith<0.2.0,>=0.1.125->langchain-community) (1.0.0)\n",
      "Requirement already satisfied: annotated-types>=0.4.0 in g:\\pyproject\\python-learn\\venv\\lib\\site-packages (from pydantic<3.0.0,>=2.7.4->langchain-anthropic) (0.7.0)\n",
      "Requirement already satisfied: pydantic-core==2.20.1 in g:\\pyproject\\python-learn\\venv\\lib\\site-packages (from pydantic<3.0.0,>=2.7.4->langchain-anthropic) (2.20.1)\n",
      "Requirement already satisfied: python-dotenv>=0.21.0 in g:\\pyproject\\python-learn\\venv\\lib\\site-packages (from pydantic-settings<3.0.0,>=2.4.0->langchain-community) (1.0.1)\n",
      "Requirement already satisfied: charset-normalizer<4,>=2 in g:\\pyproject\\python-learn\\venv\\lib\\site-packages (from requests<3,>=2->langchain-community) (3.3.2)\n",
      "Requirement already satisfied: urllib3<3,>=1.21.1 in g:\\pyproject\\python-learn\\venv\\lib\\site-packages (from requests<3,>=2->langchain-community) (2.2.2)\n",
      "Requirement already satisfied: greenlet!=0.4.17 in g:\\pyproject\\python-learn\\venv\\lib\\site-packages (from SQLAlchemy<3,>=1.4->langchain-community) (3.1.1)\n",
      "Requirement already satisfied: regex>=2022.1.18 in g:\\pyproject\\python-learn\\venv\\lib\\site-packages (from tiktoken>=0.5.1->tavily-python) (2024.9.11)\n",
      "Requirement already satisfied: exceptiongroup>=1.0.2 in g:\\pyproject\\python-learn\\venv\\lib\\site-packages (from anyio<5,>=3.5.0->anthropic<1,>=0.30.0->langchain-anthropic) (1.2.2)\n",
      "Requirement already satisfied: jsonpointer>=1.9 in g:\\pyproject\\python-learn\\venv\\lib\\site-packages (from jsonpatch<2.0,>=1.33->langchain-core<0.4.0,>=0.3.12->langchain-community) (3.0.0)\n",
      "Requirement already satisfied: huggingface-hub<1.0,>=0.16.4 in g:\\pyproject\\python-learn\\venv\\lib\\site-packages (from tokenizers>=0.13.0->anthropic<1,>=0.30.0->langchain-anthropic) (0.24.1)\n",
      "Requirement already satisfied: mypy-extensions>=0.3.0 in g:\\pyproject\\python-learn\\venv\\lib\\site-packages (from typing-inspect<1,>=0.4.0->dataclasses-json<0.7,>=0.5.7->langchain-community) (1.0.0)\n",
      "Requirement already satisfied: propcache>=0.2.0 in g:\\pyproject\\python-learn\\venv\\lib\\site-packages (from yarl<2.0,>=1.12.0->aiohttp<4.0.0,>=3.8.3->langchain-community) (0.2.0)\n",
      "Requirement already satisfied: filelock in g:\\pyproject\\python-learn\\venv\\lib\\site-packages (from huggingface-hub<1.0,>=0.16.4->tokenizers>=0.13.0->anthropic<1,>=0.30.0->langchain-anthropic) (3.15.4)\n",
      "Requirement already satisfied: fsspec>=2023.5.0 in g:\\pyproject\\python-learn\\venv\\lib\\site-packages (from huggingface-hub<1.0,>=0.16.4->tokenizers>=0.13.0->anthropic<1,>=0.30.0->langchain-anthropic) (2024.6.1)\n",
      "Requirement already satisfied: tqdm>=4.42.1 in g:\\pyproject\\python-learn\\venv\\lib\\site-packages (from huggingface-hub<1.0,>=0.16.4->tokenizers>=0.13.0->anthropic<1,>=0.30.0->langchain-anthropic) (4.66.4)\n",
      "Requirement already satisfied: colorama in g:\\pyproject\\python-learn\\venv\\lib\\site-packages (from tqdm>=4.42.1->huggingface-hub<1.0,>=0.16.4->tokenizers>=0.13.0->anthropic<1,>=0.30.0->langchain-anthropic) (0.4.6)\n",
      "Installing collected packages: defusedxml, aiosqlite, tavily-python, langchain-core, langchain-anthropic, langgraph-checkpoint-sqlite, langgraph, langchain, langchain-community\n",
      "  Attempting uninstall: langchain-core\n",
      "    Found existing installation: langchain-core 0.3.10\n",
      "    Uninstalling langchain-core-0.3.10:\n",
      "      Successfully uninstalled langchain-core-0.3.10\n",
      "  Attempting uninstall: langgraph\n",
      "    Found existing installation: langgraph 0.2.38\n",
      "    Uninstalling langgraph-0.2.38:\n",
      "      Successfully uninstalled langgraph-0.2.38\n",
      "  Attempting uninstall: langchain\n",
      "    Found existing installation: langchain 0.3.3\n",
      "    Uninstalling langchain-0.3.3:\n",
      "      Successfully uninstalled langchain-0.3.3\n",
      "  Attempting uninstall: langchain-community\n",
      "    Found existing installation: langchain-community 0.3.2\n",
      "    Uninstalling langchain-community-0.3.2:\n",
      "      Successfully uninstalled langchain-community-0.3.2\n",
      "Successfully installed aiosqlite-0.20.0 defusedxml-0.7.1 langchain-0.3.4 langchain-anthropic-0.2.3 langchain-community-0.3.3 langchain-core-0.3.12 langgraph-0.2.39 langgraph-checkpoint-sqlite-2.0.0 tavily-python-0.5.0\n",
      "Note: you may need to restart the kernel to use updated packages.\n"
     ]
    },
    {
     "name": "stderr",
     "output_type": "stream",
     "text": [
      "\n",
      "[notice] A new release of pip is available: 24.0 -> 24.2\n",
      "[notice] To update, run: python.exe -m pip install --upgrade pip\n"
     ]
    }
   ],
   "source": [
    "%pip install -U langchain-community langgraph langchain-anthropic tavily-python langgraph-checkpoint-sqlite"
   ]
  },
  {
   "cell_type": "code",
   "execution_count": 3,
   "metadata": {},
   "outputs": [
    {
     "data": {
      "text/plain": [
       "True"
      ]
     },
     "execution_count": 3,
     "metadata": {},
     "output_type": "execute_result"
    }
   ],
   "source": [
    "from dotenv import load_dotenv\n",
    "\n",
    "load_dotenv()\n",
    "\n"
   ]
  },
  {
   "cell_type": "code",
   "execution_count": 4,
   "metadata": {},
   "outputs": [
    {
     "name": "stdout",
     "output_type": "stream",
     "text": [
      "[{'url': 'https://www.weatherapi.com/', 'content': \"{'location': {'name': 'San Francisco', 'region': 'California', 'country': 'United States of America', 'lat': 37.775, 'lon': -122.4183, 'tz_id': 'America/Los_Angeles', 'localtime_epoch': 1729398312, 'localtime': '2024-10-19 21:25'}, 'current': {'last_updated_epoch': 1729397700, 'last_updated': '2024-10-19 21:15', 'temp_c': 17.1, 'temp_f': 62.8, 'is_day': 0, 'condition': {'text': 'Clear', 'icon': '//cdn.weatherapi.com/weather/64x64/night/113.png', 'code': 1000}, 'wind_mph': 4.7, 'wind_kph': 7.6, 'wind_degree': 273, 'wind_dir': 'W', 'pressure_mb': 1018.0, 'pressure_in': 30.05, 'precip_mm': 0.0, 'precip_in': 0.0, 'humidity': 55, 'cloud': 0, 'feelslike_c': 17.1, 'feelslike_f': 62.8, 'windchill_c': 15.6, 'windchill_f': 60.1, 'heatindex_c': 15.4, 'heatindex_f': 59.7, 'dewpoint_c': 11.3, 'dewpoint_f': 52.4, 'vis_km': 16.0, 'vis_miles': 9.0, 'uv': 0.0, 'gust_mph': 9.9, 'gust_kph': 15.9}}\"}, {'url': 'https://www.timeanddate.com/weather/@z-us-94134/ext', 'content': 'San Francisco 14 Day Extended Forecast. Weather Today Weather Hourly 14 Day Forecast Yesterday/Past Weather Climate (Averages) Currently: 59 °F. Scattered clouds. (Weather station: San Francisco International Airport, USA). See more current weather.'}]\n"
     ]
    }
   ],
   "source": [
    "from langchain_community.tools.tavily_search import TavilySearchResults\n",
    "\n",
    "search = TavilySearchResults(max_results=2)\n",
    "search_results = search.invoke(\"what is the weather in SF\")\n",
    "print(search_results)\n",
    "# If we want, we can create other tools.\n",
    "# Once we have all the tools we want, we can put them in a list that we will reference later.\n",
    "tools = [search]"
   ]
  },
  {
   "cell_type": "code",
   "execution_count": 5,
   "metadata": {},
   "outputs": [],
   "source": [
    "from langchain_openai import ChatOpenAI\n",
    "\n",
    "model = ChatOpenAI(model=\"gpt-4o-mini\")"
   ]
  },
  {
   "cell_type": "code",
   "execution_count": 6,
   "metadata": {},
   "outputs": [
    {
     "data": {
      "text/plain": [
       "'Hello! How can I assist you today?'"
      ]
     },
     "execution_count": 6,
     "metadata": {},
     "output_type": "execute_result"
    }
   ],
   "source": [
    "from langchain_core.messages import HumanMessage\n",
    "\n",
    "response = model.invoke([HumanMessage(content=\"hi!\")])\n",
    "response.content"
   ]
  },
  {
   "cell_type": "code",
   "execution_count": 7,
   "metadata": {},
   "outputs": [],
   "source": [
    "model_with_tools = model.bind_tools(tools)\n"
   ]
  },
  {
   "cell_type": "code",
   "execution_count": 8,
   "metadata": {},
   "outputs": [
    {
     "name": "stdout",
     "output_type": "stream",
     "text": [
      "Content: Hello! How can I assist you today?\n",
      "Tool Calls: []\n"
     ]
    }
   ],
   "source": [
    "response = model_with_tools.invoke([HumanMessage(content=\"hi!\")])\n",
    "print(\"Content:\", response.content)\n",
    "print(\"Tool Calls:\", response.tool_calls)\n",
    "\n"
   ]
  },
  {
   "cell_type": "code",
   "execution_count": 9,
   "metadata": {},
   "outputs": [
    {
     "name": "stdout",
     "output_type": "stream",
     "text": [
      "ContentString: \n",
      "ToolCalls: [{'name': 'tavily_search_results_json', 'args': {'query': 'current weather in San Francisco'}, 'id': 'call_eu48YNP1ZZuHWEVgmhhVLqNU', 'type': 'tool_call'}]\n"
     ]
    }
   ],
   "source": [
    "response = model_with_tools.invoke([HumanMessage(content=\"What's the weather in SF?\")])\n",
    "\n",
    "print(f\"ContentString: {response.content}\")\n",
    "print(f\"ToolCalls: {response.tool_calls}\")"
   ]
  },
  {
   "cell_type": "markdown",
   "metadata": {},
   "source": [
    "## Create an agent"
   ]
  },
  {
   "cell_type": "code",
   "execution_count": 10,
   "metadata": {},
   "outputs": [],
   "source": [
    "from langgraph.prebuilt import create_react_agent\n",
    "\n",
    "agent_executor = create_react_agent(model, tools)"
   ]
  },
  {
   "cell_type": "code",
   "execution_count": 11,
   "metadata": {},
   "outputs": [
    {
     "data": {
      "text/plain": [
       "[HumanMessage(content='hi!', additional_kwargs={}, response_metadata={}, id='d41f41a3-b9d4-4714-8940-16ec5847c720'),\n",
       " AIMessage(content='Hello! How can I assist you today?', additional_kwargs={'refusal': None}, response_metadata={'token_usage': {'completion_tokens': 10, 'prompt_tokens': 81, 'total_tokens': 91, 'completion_tokens_details': {'audio_tokens': None, 'reasoning_tokens': 0}, 'prompt_tokens_details': {'audio_tokens': None, 'cached_tokens': 0}}, 'model_name': 'gpt-4o-mini-2024-07-18', 'system_fingerprint': 'fp_8552ec53e1', 'finish_reason': 'stop', 'logprobs': None}, id='run-73679294-f913-4a1d-96d1-3598057a9003-0', usage_metadata={'input_tokens': 81, 'output_tokens': 10, 'total_tokens': 91, 'input_token_details': {'cache_read': 0}, 'output_token_details': {'reasoning': 0}})]"
      ]
     },
     "execution_count": 11,
     "metadata": {},
     "output_type": "execute_result"
    }
   ],
   "source": [
    "response = agent_executor.invoke({\"messages\": [HumanMessage(content=\"hi!\")]})\n",
    "\n",
    "response[\"messages\"]"
   ]
  },
  {
   "cell_type": "code",
   "execution_count": 12,
   "metadata": {},
   "outputs": [
    {
     "data": {
      "text/plain": [
       "[HumanMessage(content='whats the weather in sf?', additional_kwargs={}, response_metadata={}, id='dcf5166a-c2de-4b36-a084-da6665559d51'),\n",
       " AIMessage(content='', additional_kwargs={'tool_calls': [{'id': 'call_h9D9qnEQYWE5SBwyUaXLBfTz', 'function': {'arguments': '{\"query\":\"current weather in San Francisco\"}', 'name': 'tavily_search_results_json'}, 'type': 'function'}], 'refusal': None}, response_metadata={'token_usage': {'completion_tokens': 22, 'prompt_tokens': 86, 'total_tokens': 108, 'completion_tokens_details': {'audio_tokens': None, 'reasoning_tokens': 0}, 'prompt_tokens_details': {'audio_tokens': None, 'cached_tokens': 0}}, 'model_name': 'gpt-4o-mini-2024-07-18', 'system_fingerprint': 'fp_482c22a7bc', 'finish_reason': 'tool_calls', 'logprobs': None}, id='run-e8ad56ff-4f96-446d-a75d-9177dcf219ee-0', tool_calls=[{'name': 'tavily_search_results_json', 'args': {'query': 'current weather in San Francisco'}, 'id': 'call_h9D9qnEQYWE5SBwyUaXLBfTz', 'type': 'tool_call'}], usage_metadata={'input_tokens': 86, 'output_tokens': 22, 'total_tokens': 108, 'input_token_details': {'cache_read': 0}, 'output_token_details': {'reasoning': 0}}),\n",
       " ToolMessage(content='[{\"url\": \"https://www.accuweather.com/en/us/san-francisco/94103/current-weather/347629\", \"content\": \"Current weather in San Francisco, CA. Check current conditions in San Francisco, CA with radar, hourly, and more.\"}, {\"url\": \"https://www.wunderground.com/weather/us/ca/san-francisco\", \"content\": \"Get the current and forecast weather for San Francisco, CA, including temperature, precipitation, air quality, and more. See radar, satellite, and historical data for the area.\"}]', name='tavily_search_results_json', id='77ad47db-3336-4ad1-82fa-064704c635f0', tool_call_id='call_h9D9qnEQYWE5SBwyUaXLBfTz', artifact={'query': 'current weather in San Francisco', 'follow_up_questions': None, 'answer': None, 'images': [], 'results': [{'title': 'San Francisco, CA Current Weather | AccuWeather', 'url': 'https://www.accuweather.com/en/us/san-francisco/94103/current-weather/347629', 'content': 'Current weather in San Francisco, CA. Check current conditions in San Francisco, CA with radar, hourly, and more.', 'score': 0.93913656, 'raw_content': None}, {'title': 'San Francisco, CA Weather Conditions | Weather Underground', 'url': 'https://www.wunderground.com/weather/us/ca/san-francisco', 'content': 'Get the current and forecast weather for San Francisco, CA, including temperature, precipitation, air quality, and more. See radar, satellite, and historical data for the area.', 'score': 0.91352236, 'raw_content': None}], 'response_time': 2.85}),\n",
       " AIMessage(content='You can check the current weather in San Francisco through the following links:\\n\\n1. [AccuWeather - San Francisco Current Weather](https://www.accuweather.com/en/us/san-francisco/94103/current-weather/347629)\\n2. [Weather Underground - San Francisco Weather](https://www.wunderground.com/weather/us/ca/san-francisco)\\n\\nThese sources provide detailed information including temperature, precipitation, and more.', additional_kwargs={'refusal': None}, response_metadata={'token_usage': {'completion_tokens': 90, 'prompt_tokens': 238, 'total_tokens': 328, 'completion_tokens_details': {'audio_tokens': None, 'reasoning_tokens': 0}, 'prompt_tokens_details': {'audio_tokens': None, 'cached_tokens': 0}}, 'model_name': 'gpt-4o-mini-2024-07-18', 'system_fingerprint': 'fp_482c22a7bc', 'finish_reason': 'stop', 'logprobs': None}, id='run-97b459b0-3d52-4f14-9198-8b61e823ef4d-0', usage_metadata={'input_tokens': 238, 'output_tokens': 90, 'total_tokens': 328, 'input_token_details': {'cache_read': 0}, 'output_token_details': {'reasoning': 0}})]"
      ]
     },
     "execution_count": 12,
     "metadata": {},
     "output_type": "execute_result"
    }
   ],
   "source": [
    "response = agent_executor.invoke(\n",
    "    {\"messages\": [HumanMessage(content=\"whats the weather in sf?\")]}\n",
    ")\n",
    "response[\"messages\"]"
   ]
  },
  {
   "cell_type": "code",
   "execution_count": 14,
   "metadata": {},
   "outputs": [
    {
     "name": "stdout",
     "output_type": "stream",
     "text": [
      "{'agent': {'messages': [AIMessage(content='', additional_kwargs={'tool_calls': [{'id': 'call_zq95DXnMFNI8xLazaTCJGJMc', 'function': {'arguments': '{\"query\":\"current weather in San Francisco\"}', 'name': 'tavily_search_results_json'}, 'type': 'function'}], 'refusal': None}, response_metadata={'token_usage': {'completion_tokens': 22, 'prompt_tokens': 86, 'total_tokens': 108, 'completion_tokens_details': {'audio_tokens': None, 'reasoning_tokens': 0}, 'prompt_tokens_details': {'audio_tokens': None, 'cached_tokens': 0}}, 'model_name': 'gpt-4o-mini-2024-07-18', 'system_fingerprint': 'fp_482c22a7bc', 'finish_reason': 'tool_calls', 'logprobs': None}, id='run-f654efe7-8927-44bc-8917-939b5fd93e9f-0', tool_calls=[{'name': 'tavily_search_results_json', 'args': {'query': 'current weather in San Francisco'}, 'id': 'call_zq95DXnMFNI8xLazaTCJGJMc', 'type': 'tool_call'}], usage_metadata={'input_tokens': 86, 'output_tokens': 22, 'total_tokens': 108, 'input_token_details': {'cache_read': 0}, 'output_token_details': {'reasoning': 0}})]}}\n",
      "----\n",
      "{'tools': {'messages': [ToolMessage(content='[{\"url\": \"https://www.weatherapi.com/\", \"content\": \"{\\'location\\': {\\'name\\': \\'San Francisco\\', \\'region\\': \\'California\\', \\'country\\': \\'United States of America\\', \\'lat\\': 37.775, \\'lon\\': -122.4183, \\'tz_id\\': \\'America/Los_Angeles\\', \\'localtime_epoch\\': 1729416663, \\'localtime\\': \\'2024-10-20 02:31\\'}, \\'current\\': {\\'last_updated_epoch\\': 1729416600, \\'last_updated\\': \\'2024-10-20 02:30\\', \\'temp_c\\': 11.4, \\'temp_f\\': 52.5, \\'is_day\\': 0, \\'condition\\': {\\'text\\': \\'Partly cloudy\\', \\'icon\\': \\'//cdn.weatherapi.com/weather/64x64/night/116.png\\', \\'code\\': 1003}, \\'wind_mph\\': 2.5, \\'wind_kph\\': 4.0, \\'wind_degree\\': 218, \\'wind_dir\\': \\'SW\\', \\'pressure_mb\\': 1018.0, \\'pressure_in\\': 30.05, \\'precip_mm\\': 0.0, \\'precip_in\\': 0.0, \\'humidity\\': 47, \\'cloud\\': 25, \\'feelslike_c\\': 11.7, \\'feelslike_f\\': 53.0, \\'windchill_c\\': 11.4, \\'windchill_f\\': 52.6, \\'heatindex_c\\': 11.3, \\'heatindex_f\\': 52.3, \\'dewpoint_c\\': 10.2, \\'dewpoint_f\\': 50.4, \\'vis_km\\': 16.0, \\'vis_miles\\': 9.0, \\'uv\\': 0.0, \\'gust_mph\\': 5.1, \\'gust_kph\\': 8.3}}\"}, {\"url\": \"https://forecast.weather.gov/zipcity.php?inputstring=San+francisco,CA\", \"content\": \"Current conditions at SAN FRANCISCO DOWNTOWN (SFOC1) Lat: 37.77056°NLon: 122.42694°WElev: 150.0ft. NA. 66°F. 19°C. ... San Francisco CA 37.77°N 122.41°W (Elev. 131 ft) Last Update: 2:20 pm PDT Oct 13, 2024. Forecast Valid: 5pm PDT Oct 13, 2024-6pm PDT Oct 20, 2024 . Forecast Discussion . Additional Resources. Radar & Satellite Image\"}]', name='tavily_search_results_json', id='b6391bff-9a8a-403d-9bf6-c04e1a6329c5', tool_call_id='call_zq95DXnMFNI8xLazaTCJGJMc', artifact={'query': 'current weather in San Francisco', 'follow_up_questions': None, 'answer': None, 'images': [], 'results': [{'title': 'Weather in San Francisco', 'url': 'https://www.weatherapi.com/', 'content': \"{'location': {'name': 'San Francisco', 'region': 'California', 'country': 'United States of America', 'lat': 37.775, 'lon': -122.4183, 'tz_id': 'America/Los_Angeles', 'localtime_epoch': 1729416663, 'localtime': '2024-10-20 02:31'}, 'current': {'last_updated_epoch': 1729416600, 'last_updated': '2024-10-20 02:30', 'temp_c': 11.4, 'temp_f': 52.5, 'is_day': 0, 'condition': {'text': 'Partly cloudy', 'icon': '//cdn.weatherapi.com/weather/64x64/night/116.png', 'code': 1003}, 'wind_mph': 2.5, 'wind_kph': 4.0, 'wind_degree': 218, 'wind_dir': 'SW', 'pressure_mb': 1018.0, 'pressure_in': 30.05, 'precip_mm': 0.0, 'precip_in': 0.0, 'humidity': 47, 'cloud': 25, 'feelslike_c': 11.7, 'feelslike_f': 53.0, 'windchill_c': 11.4, 'windchill_f': 52.6, 'heatindex_c': 11.3, 'heatindex_f': 52.3, 'dewpoint_c': 10.2, 'dewpoint_f': 50.4, 'vis_km': 16.0, 'vis_miles': 9.0, 'uv': 0.0, 'gust_mph': 5.1, 'gust_kph': 8.3}}\", 'score': 0.9916323, 'raw_content': None}, {'title': 'National Weather Service', 'url': 'https://forecast.weather.gov/zipcity.php?inputstring=San+francisco,CA', 'content': 'Current conditions at SAN FRANCISCO DOWNTOWN (SFOC1) Lat: 37.77056°NLon: 122.42694°WElev: 150.0ft. NA. 66°F. 19°C. ... San Francisco CA 37.77°N 122.41°W (Elev. 131 ft) Last Update: 2:20 pm PDT Oct 13, 2024. Forecast Valid: 5pm PDT Oct 13, 2024-6pm PDT Oct 20, 2024 . Forecast Discussion . Additional Resources. Radar & Satellite Image', 'score': 0.983343, 'raw_content': None}], 'response_time': 2.53})]}}\n",
      "----\n",
      "{'agent': {'messages': [AIMessage(content='The current weather in San Francisco is as follows:\\n\\n- **Temperature:** 11.4°C (52.5°F)\\n- **Condition:** Partly cloudy\\n- **Wind:** 2.5 mph from the SW\\n- **Humidity:** 47%\\n- **Visibility:** 16 km (9 miles)\\n\\nFor more detailed weather updates, you can visit [Weather API](https://www.weatherapi.com/) or [National Weather Service](https://forecast.weather.gov/zipcity.php?inputstring=San+francisco,CA).', additional_kwargs={'refusal': None}, response_metadata={'token_usage': {'completion_tokens': 112, 'prompt_tokens': 684, 'total_tokens': 796, 'completion_tokens_details': {'audio_tokens': None, 'reasoning_tokens': 0}, 'prompt_tokens_details': {'audio_tokens': None, 'cached_tokens': 0}}, 'model_name': 'gpt-4o-mini-2024-07-18', 'system_fingerprint': 'fp_482c22a7bc', 'finish_reason': 'stop', 'logprobs': None}, id='run-73e41a7b-5ebb-4113-96cc-559fa21ddf4c-0', usage_metadata={'input_tokens': 684, 'output_tokens': 112, 'total_tokens': 796, 'input_token_details': {'cache_read': 0}, 'output_token_details': {'reasoning': 0}})]}}\n",
      "----\n"
     ]
    },
    {
     "name": "stderr",
     "output_type": "stream",
     "text": [
      "Failed to multipart ingest runs: langsmith.utils.LangSmithError: Failed to POST https://api.smith.langchain.com/runs/multipart in LangSmith API. HTTPError('400 Client Error: Bad Request for url: https://api.smith.langchain.com/runs/multipart', '{\"detail\":\"Empty request\"}')\n"
     ]
    }
   ],
   "source": [
    "for chunk in agent_executor.stream(\n",
    "    {\"messages\": [HumanMessage(content=\"whats the weather in sf?\")]}\n",
    "):\n",
    "    print(chunk)\n",
    "    print(\"----\")"
   ]
  },
  {
   "cell_type": "code",
   "execution_count": null,
   "metadata": {},
   "outputs": [],
   "source": []
  },
  {
   "cell_type": "code",
   "execution_count": null,
   "metadata": {},
   "outputs": [],
   "source": []
  },
  {
   "cell_type": "code",
   "execution_count": null,
   "metadata": {},
   "outputs": [],
   "source": [
    "# Import relevant functionality\n",
    "from langchain_openai import ChatOpenAI\n",
    "from langchain_community.tools.tavily_search import TavilySearchResults\n",
    "from langchain_core.messages import HumanMessage\n",
    "from langgraph.checkpoint.memory import MemorySaver\n",
    "from langgraph.prebuilt import create_react_agent\n",
    "\n",
    "# Create the agent\n",
    "memory = MemorySaver()\n",
    "model = ChatOpenAI(model_name=\"gpt-4o-mini\")\n",
    "search = TavilySearchResults(max_results=2)\n",
    "tools = [search]\n",
    "agent_executor = create_react_agent(model, tools, checkpointer=memory)\n",
    "\n",
    "# Use the agent\n",
    "config = {\"configurable\": {\"thread_id\": \"abc123\"}}\n",
    "for chunk in agent_executor.stream(\n",
    "    {\"messages\": [HumanMessage(content=\"hi im bob! and i live in sf\")]}, config\n",
    "):\n",
    "    print(chunk)\n",
    "    print(\"----\")\n",
    "\n",
    "for chunk in agent_executor.stream(\n",
    "    {\"messages\": [HumanMessage(content=\"whats the weather where I live?\")]}, config\n",
    "):\n",
    "    print(chunk)\n",
    "    print(\"----\")"
   ]
  },
  {
   "cell_type": "code",
   "execution_count": null,
   "metadata": {},
   "outputs": [],
   "source": []
  },
  {
   "cell_type": "code",
   "execution_count": null,
   "metadata": {},
   "outputs": [],
   "source": []
  },
  {
   "cell_type": "code",
   "execution_count": null,
   "metadata": {},
   "outputs": [],
   "source": []
  },
  {
   "cell_type": "code",
   "execution_count": null,
   "metadata": {},
   "outputs": [],
   "source": []
  },
  {
   "cell_type": "code",
   "execution_count": null,
   "metadata": {},
   "outputs": [],
   "source": []
  },
  {
   "cell_type": "code",
   "execution_count": null,
   "metadata": {},
   "outputs": [],
   "source": []
  },
  {
   "cell_type": "code",
   "execution_count": null,
   "metadata": {},
   "outputs": [],
   "source": []
  },
  {
   "cell_type": "code",
   "execution_count": null,
   "metadata": {},
   "outputs": [],
   "source": []
  },
  {
   "cell_type": "code",
   "execution_count": null,
   "metadata": {},
   "outputs": [],
   "source": []
  },
  {
   "cell_type": "code",
   "execution_count": null,
   "metadata": {},
   "outputs": [],
   "source": []
  },
  {
   "cell_type": "code",
   "execution_count": null,
   "metadata": {},
   "outputs": [],
   "source": []
  },
  {
   "cell_type": "code",
   "execution_count": null,
   "metadata": {},
   "outputs": [],
   "source": []
  },
  {
   "cell_type": "code",
   "execution_count": null,
   "metadata": {},
   "outputs": [],
   "source": []
  },
  {
   "cell_type": "code",
   "execution_count": null,
   "metadata": {},
   "outputs": [],
   "source": []
  },
  {
   "cell_type": "code",
   "execution_count": null,
   "metadata": {},
   "outputs": [],
   "source": []
  },
  {
   "cell_type": "code",
   "execution_count": null,
   "metadata": {},
   "outputs": [],
   "source": []
  },
  {
   "cell_type": "code",
   "execution_count": null,
   "metadata": {},
   "outputs": [],
   "source": []
  },
  {
   "cell_type": "code",
   "execution_count": null,
   "metadata": {},
   "outputs": [],
   "source": []
  },
  {
   "cell_type": "code",
   "execution_count": null,
   "metadata": {},
   "outputs": [],
   "source": []
  },
  {
   "cell_type": "code",
   "execution_count": null,
   "metadata": {},
   "outputs": [],
   "source": []
  },
  {
   "cell_type": "code",
   "execution_count": null,
   "metadata": {},
   "outputs": [],
   "source": []
  },
  {
   "cell_type": "code",
   "execution_count": null,
   "metadata": {},
   "outputs": [],
   "source": []
  }
 ],
 "metadata": {
  "kernelspec": {
   "display_name": "venv",
   "language": "python",
   "name": "python3"
  },
  "language_info": {
   "codemirror_mode": {
    "name": "ipython",
    "version": 3
   },
   "file_extension": ".py",
   "mimetype": "text/x-python",
   "name": "python",
   "nbconvert_exporter": "python",
   "pygments_lexer": "ipython3",
   "version": "3.10.9"
  }
 },
 "nbformat": 4,
 "nbformat_minor": 2
}
